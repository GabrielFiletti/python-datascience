{
 "cells": [
  {
   "cell_type": "code",
   "execution_count": 3,
   "metadata": {},
   "outputs": [],
   "source": [
    "#1. abrir o arquivo Auto.csv\n",
    "#2. contar a quantidade de elementos nulos por coluna\n",
    "#3. criar um data frame eliminando as linhas com valores nulos\n",
    "#4. criar um data frame transformando os valores nulos para zero\n",
    "#5. criar um data frame trocando nulo por média da coluna\n",
    "\n",
    "import pandas as pd\n",
    "import numpy as np\n",
    "\n",
    "#1. abrir o arquivo Auto.csv\n",
    "url='https://raw.githubusercontent.com/advinstai/python-datascience/master/csv/Auto.csv'\n",
    "#url='https://raw.githubusercontent.com/advinstai/python-datascience/master/csv/adult.csv'\n",
    "#url='https://raw.githubusercontent.com/advinstai/python-datascience/master/csv/diabetic_data.csv'\n",
    "\n",
    "#2. contar a quantidade de elementos nulos por coluna\n",
    "url='https://raw.githubusercontent.com/advinstai/python-datascience/master/csv/Auto.csv'\n",
    "from_url = pd.read_csv(url, sep=',')\n",
    "df = pd.DataFrame(from_url)\n",
    "\n",
    "dfR = df.replace('?', np.nan)\n",
    "\n",
    "nulls_by_columns = dfR.isnull().sum(axis=0)\n",
    "nulls_by_columns\n",
    "#3. criar um data frame eliminando as linhas com valores nulos\n",
    "url='https://raw.githubusercontent.com/advinstai/python-datascience/master/csv/Auto.csv'\n",
    "from_url = pd.read_csv(url, sep=',')\n",
    "df = pd.DataFrame(from_url)\n",
    "\n",
    "dfNoNulls = from_url[from_url['horsepower'] != '?']\n",
    "\n",
    "#4. criar um data frame transformando os valores nulos para zero\n",
    "url='https://raw.githubusercontent.com/advinstai/python-datascience/master/csv/Auto.csv'\n",
    "from_url = pd.read_csv(url, sep=',')\n",
    "df = pd.DataFrame(from_url)\n",
    "\n",
    "dfR = df.replace('?', 0)\n",
    "\n",
    "#5. criar um data frame trocando nulo por média da coluna\n",
    "url='https://raw.githubusercontent.com/advinstai/python-datascience/master/csv/Auto.csv'\n",
    "from_url = pd.read_csv(url, sep=',')\n",
    "df = pd.DataFrame(from_url)\n",
    "\n",
    "dfR = df.replace('?', np.NaN)\n",
    "\n",
    "dfR['horsepower'] = pd.to_numeric(dfR['horsepower'])\n",
    "\n",
    "mean_horsepower =  dfR['horsepower'].mean()\n",
    "\n",
    "dfR.replace(np.NaN, mean_horsepower, inplace=True)"
   ]
  },
  {
   "cell_type": "code",
   "execution_count": null,
   "metadata": {},
   "outputs": [],
   "source": []
  }
 ],
 "metadata": {
  "kernelspec": {
   "display_name": "Python 3",
   "language": "python",
   "name": "python3"
  },
  "language_info": {
   "codemirror_mode": {
    "name": "ipython",
    "version": 3
   },
   "file_extension": ".py",
   "mimetype": "text/x-python",
   "name": "python",
   "nbconvert_exporter": "python",
   "pygments_lexer": "ipython3",
   "version": "3.7.4"
  }
 },
 "nbformat": 4,
 "nbformat_minor": 2
}
