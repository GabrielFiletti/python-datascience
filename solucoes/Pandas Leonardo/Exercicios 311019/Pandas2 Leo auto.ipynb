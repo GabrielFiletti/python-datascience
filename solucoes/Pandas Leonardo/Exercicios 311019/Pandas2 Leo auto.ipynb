{
 "cells": [
  {
   "cell_type": "code",
   "execution_count": 187,
   "metadata": {},
   "outputs": [
    {
     "name": "stdout",
     "output_type": "stream",
     "text": [
      "Index(['mpg', 'cylinders', 'displacement', 'horsepower', 'weight',\n",
      "       'acceleration', 'year', 'origin', 'name'],\n",
      "      dtype='object')\n",
      "?\n",
      "<class 'str'>\n",
      "\n",
      "<class 'str'>\n"
     ]
    },
    {
     "data": {
      "text/plain": [
       "mpg               23.515869\n",
       "cylinders          5.458438\n",
       "displacement     193.532746\n",
       "horsepower              inf\n",
       "weight          2970.261965\n",
       "acceleration      15.555668\n",
       "year              75.994962\n",
       "origin             1.574307\n",
       "dtype: float64"
      ]
     },
     "execution_count": 187,
     "metadata": {},
     "output_type": "execute_result"
    }
   ],
   "source": [
    "import pandas as pd\n",
    "import numpy as np\n",
    "url = 'https://raw.githubusercontent.com/advinstai/python-datascience/master/csv/Auto.csv'\n",
    "data = pd.read_table(url,\",\")\n",
    "print(data.columns)\n",
    "print(data['horsepower'][32])\n",
    "print(type(data['horsepower'][32]))\n",
    "data['horsepower'].replace(to_replace='?',value=\"\", inplace=True)\n",
    "print(data['horsepower'][32])\n",
    "print(type(data['horsepower'][32]))\n",
    "data.mean()"
   ]
  },
  {
   "cell_type": "code",
   "execution_count": 188,
   "metadata": {},
   "outputs": [
    {
     "data": {
      "text/plain": [
       "mpg               23.515869\n",
       "cylinders          5.458438\n",
       "displacement     193.532746\n",
       "horsepower       104.469388\n",
       "weight          2970.261965\n",
       "acceleration      15.555668\n",
       "year              75.994962\n",
       "origin             1.574307\n",
       "dtype: float64"
      ]
     },
     "execution_count": 188,
     "metadata": {},
     "output_type": "execute_result"
    }
   ],
   "source": [
    "data['horsepower'] = pd.to_numeric(data['horsepower'])\n",
    "data.mean()"
   ]
  },
  {
   "cell_type": "code",
   "execution_count": 191,
   "metadata": {},
   "outputs": [],
   "source": [
    "data['horsepower'].replace(to_replace='?', value=float(104.21),inplace=True)\n",
    "data.to_csv('auto2.csv')"
   ]
  },
  {
   "cell_type": "code",
   "execution_count": 186,
   "metadata": {},
   "outputs": [
    {
     "name": "stdout",
     "output_type": "stream",
     "text": [
      "None\n"
     ]
    }
   ],
   "source": []
  },
  {
   "cell_type": "code",
   "execution_count": null,
   "metadata": {},
   "outputs": [],
   "source": []
  }
 ],
 "metadata": {
  "kernelspec": {
   "display_name": "Python 3",
   "language": "python",
   "name": "python3"
  },
  "language_info": {
   "codemirror_mode": {
    "name": "ipython",
    "version": 3
   },
   "file_extension": ".py",
   "mimetype": "text/x-python",
   "name": "python",
   "nbconvert_exporter": "python",
   "pygments_lexer": "ipython3",
   "version": "3.7.1"
  }
 },
 "nbformat": 4,
 "nbformat_minor": 2
}
