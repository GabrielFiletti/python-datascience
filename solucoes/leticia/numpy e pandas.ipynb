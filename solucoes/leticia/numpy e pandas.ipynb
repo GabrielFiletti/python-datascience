{
 "cells": [
  {
   "cell_type": "markdown",
   "metadata": {},
   "source": [
    "## EXERCICIOS DA AULA NUMPY"
   ]
  },
  {
   "cell_type": "code",
   "execution_count": 6,
   "metadata": {},
   "outputs": [
    {
     "name": "stdout",
     "output_type": "stream",
     "text": [
      "[[0.1969017  0.75717664 0.13586722]\n",
      " [0.74355199 0.46492196 0.0309963 ]]\n",
      "[[0.1969017  0.75717664]\n",
      " [0.13586722 0.74355199]\n",
      " [0.46492196 0.0309963 ]]\n"
     ]
    }
   ],
   "source": [
    "import numpy as np\n",
    "\n",
    "a= np.random.random((2,3))\n",
    "print(a)\n",
    "\n",
    "b = a.reshape((3,2))\n",
    "\n",
    "print(b)"
   ]
  },
  {
   "cell_type": "code",
   "execution_count": 10,
   "metadata": {},
   "outputs": [
    {
     "name": "stdout",
     "output_type": "stream",
     "text": [
      "[ 1  2  3  4  5  6  7  8  9 10] [[ 1  2  3  4  5]\n",
      " [ 6  7  8  9 10]]\n"
     ]
    }
   ],
   "source": [
    "a = np.arange(1,11,1)\n",
    "b = a.reshape((2,5))\n",
    "\n",
    "print(a,b)"
   ]
  },
  {
   "cell_type": "code",
   "execution_count": 38,
   "metadata": {},
   "outputs": [
    {
     "data": {
      "text/plain": [
       "50"
      ]
     },
     "execution_count": 38,
     "metadata": {},
     "output_type": "execute_result"
    }
   ],
   "source": [
    "c = np.random.random((2,3))\n",
    "\n",
    "d= c.transpose()\n",
    "\n",
    "arquivo = open('Documentos/AULAS/numpy.txt', 'w')\n",
    "arquivo.write(str(c))\n",
    "arquivo.write(str(d))\n",
    "\n",
    "#np.savetxt('Documentos/AULAS/numpy.txt', c)\n",
    "#np.savetxt('Documentos/AULAS/numpy.txt', d)\n",
    "\n",
    "\n",
    "e =np.dot(c,d)\n",
    "arqui = open('Documentos/AULAS/numpy2.txt', 'w')\n",
    "arqui.write(str(e))"
   ]
  },
  {
   "cell_type": "code",
   "execution_count": 20,
   "metadata": {},
   "outputs": [
    {
     "data": {
      "text/plain": [
       "'/home/leticia'"
      ]
     },
     "execution_count": 20,
     "metadata": {},
     "output_type": "execute_result"
    }
   ],
   "source": [
    "pwd"
   ]
  },
  {
   "cell_type": "code",
   "execution_count": 39,
   "metadata": {},
   "outputs": [
    {
     "name": "stdout",
     "output_type": "stream",
     "text": [
      "[[1.08138851 1.80983555 0.13019242]\n",
      " [1.30528401 1.49486601 1.47728422]]\n"
     ]
    }
   ],
   "source": [
    "x = np.random.random((2,3))\n",
    "y = np.random.random((2,3))\n",
    "\n",
    "res=np.add(x,y)\n",
    "\n",
    "print(res)"
   ]
  },
  {
   "cell_type": "markdown",
   "metadata": {},
   "source": [
    "## NUMPY LISTA OUTRA"
   ]
  },
  {
   "cell_type": "code",
   "execution_count": 12,
   "metadata": {},
   "outputs": [
    {
     "name": "stdout",
     "output_type": "stream",
     "text": [
      "80\n",
      "480\n"
     ]
    }
   ],
   "source": [
    "import numpy as np\n",
    "a = np.zeros((1,10))\n",
    "print(a.nbytes)\n",
    "\n",
    "b = np.random.random((2,3,10))\n",
    "print(b.nbytes)"
   ]
  },
  {
   "cell_type": "code",
   "execution_count": 16,
   "metadata": {},
   "outputs": [
    {
     "name": "stdout",
     "output_type": "stream",
     "text": [
      "[[0. 0. 0. 0. 1. 0. 0. 0. 0. 0.]]\n"
     ]
    }
   ],
   "source": [
    "a = np.zeros((1,10))\n",
    "a[0,4]=1\n",
    "\n",
    "print(a)"
   ]
  },
  {
   "cell_type": "code",
   "execution_count": 19,
   "metadata": {},
   "outputs": [
    {
     "name": "stdout",
     "output_type": "stream",
     "text": [
      "[10 11 12 13 14 15 16 17 18 19 20 21 22 23 24 25 26 27 28 29 30 31 32 33\n",
      " 34 35 36 37 38 39 40 41 42 43 44 45 46 47 48]\n"
     ]
    }
   ],
   "source": [
    "varia=np.arange(10,49)\n",
    "\n",
    "print(varia)"
   ]
  },
  {
   "cell_type": "code",
   "execution_count": 29,
   "metadata": {},
   "outputs": [
    {
     "name": "stdout",
     "output_type": "stream",
     "text": [
      "[10 11 12 13 14 15 16 17 18 19 20 21 22 23 24 25 26 27 28 29 30 31 32 33\n",
      " 34 35 36 37 38 39 40 41 42 43 44 45 46 47 48]\n",
      "[10, 11, 12, 13, 14, 15, 16, 17, 18, 19, 20, 21, 22, 23, 24, 25, 26, 27, 28, 29, 30, 31, 32, 33, 34, 35, 36, 37, 38, 39, 40, 41, 42, 43, 44, 45, 46, 47, 48]\n"
     ]
    }
   ],
   "source": [
    "vet=np.arange(10,49)\n",
    "print(vet)\n",
    "avesso = [vet[i] for i in range(len(vet))]\n",
    "\n",
    "print(avesso)"
   ]
  },
  {
   "cell_type": "code",
   "execution_count": 41,
   "metadata": {},
   "outputs": [
    {
     "name": "stdout",
     "output_type": "stream",
     "text": [
      "[[5 5 0]\n",
      " [0 0 2]\n",
      " [7 2 0]]\n"
     ]
    }
   ],
   "source": [
    "matriz_cresc = np.random.randint(0,9,(3,3))\n",
    "print(matriz_cresc)"
   ]
  },
  {
   "cell_type": "code",
   "execution_count": 31,
   "metadata": {},
   "outputs": [
    {
     "name": "stdout",
     "output_type": "stream",
     "text": [
      "full:  [[7 7]\n",
      " [7 7]]\n"
     ]
    }
   ],
   "source": [
    "n=np.full((2,2),7) \n",
    "print(\"full: \",n)"
   ]
  },
  {
   "cell_type": "code",
   "execution_count": 48,
   "metadata": {},
   "outputs": [
    {
     "name": "stdout",
     "output_type": "stream",
     "text": [
      "[[1. 0. 0.]\n",
      " [0. 1. 0.]\n",
      " [0. 0. 1.]]\n"
     ]
    }
   ],
   "source": [
    "ide = np.identity(3)\n",
    "print(ide)"
   ]
  },
  {
   "cell_type": "code",
   "execution_count": 55,
   "metadata": {},
   "outputs": [
    {
     "name": "stdout",
     "output_type": "stream",
     "text": [
      "[[[0.49570584 0.46414646 0.91557807]\n",
      "  [0.65446564 0.04373585 0.53090768]\n",
      "  [0.84661485 0.92759124 0.75137959]]\n",
      "\n",
      " [[0.56790679 0.95672164 0.71693586]\n",
      "  [0.08052833 0.20812865 0.65707056]\n",
      "  [0.48734305 0.8969018  0.11330856]]\n",
      "\n",
      " [[0.26462781 0.97778625 0.86173869]\n",
      "  [0.97865638 0.99686545 0.44026192]\n",
      "  [0.65845493 0.62702957 0.02373282]]]\n"
     ]
    }
   ],
   "source": [
    "rand3 = np.random.random((3,3,3))\n",
    "print(rand3)"
   ]
  },
  {
   "cell_type": "code",
   "execution_count": 63,
   "metadata": {},
   "outputs": [
    {
     "name": "stdout",
     "output_type": "stream",
     "text": [
      "[[0.85139474 0.28345981 0.75253972 0.37888835 0.22265229 0.54664931\n",
      "  0.83859184 0.32815181 0.44493208 0.05615659]\n",
      " [0.03168087 0.70973512 0.77209564 0.39544166 0.61784731 0.55932048\n",
      "  0.61736423 0.00129702 0.93048217 0.8900458 ]\n",
      " [0.70503763 0.61965732 0.69890468 0.87330112 0.37305612 0.20398756\n",
      "  0.7857784  0.33157113 0.92069424 0.10166612]\n",
      " [0.0225658  0.28803164 0.41347443 0.30984409 0.024746   0.80855258\n",
      "  0.68364047 0.37338996 0.39371183 0.18936308]\n",
      " [0.80042263 0.83352524 0.1430792  0.57325383 0.17424844 0.68699591\n",
      "  0.38061247 0.80147622 0.51001973 0.17025754]\n",
      " [0.38903304 0.73809932 0.83800404 0.56018632 0.44926656 0.81126091\n",
      "  0.8621714  0.16504901 0.15337961 0.56628221]\n",
      " [0.78908333 0.63984641 0.43756306 0.31570849 0.0846288  0.63656913\n",
      "  0.289979   0.51352421 0.340394   0.72252415]\n",
      " [0.12271308 0.7453649  0.66577978 0.23701824 0.15318571 0.94920792\n",
      "  0.09379909 0.66219107 0.2972876  0.51368874]\n",
      " [0.38073939 0.4177599  0.06061637 0.26111339 0.49075025 0.98653853\n",
      "  0.69238956 0.46463521 0.14164778 0.21962235]\n",
      " [0.09556207 0.0950257  0.95497449 0.47152001 0.05175948 0.45654792\n",
      "  0.29663137 0.47035036 0.59676407 0.1173354 ]]\n",
      "\n",
      " 0.9865385306051178 \n",
      "\n",
      "\n",
      " 0.0012970151699516208 \n",
      "\n"
     ]
    }
   ],
   "source": [
    "rand10 = np.random.random((10,10))\n",
    "print(rand10)\n",
    "\n",
    "print('\\n',rand10.max(), '\\n')\n",
    "\n",
    "print('\\n',rand10.min(), '\\n')"
   ]
  },
  {
   "cell_type": "code",
   "execution_count": 70,
   "metadata": {},
   "outputs": [
    {
     "name": "stdout",
     "output_type": "stream",
     "text": [
      "[[0.88374537 0.32836464 0.38226329 0.42322405 0.29864202 0.43906147\n",
      "  0.20771167 0.66139986 0.00621195 0.73659893 0.73890188 0.6641583\n",
      "  0.97088565 0.22266823 0.84112717 0.58548286 0.16735082 0.19350137\n",
      "  0.05732676 0.26540309 0.93274208 0.47455265 0.55461868 0.64558622\n",
      "  0.13125257 0.15285889 0.03693124 0.86193782 0.2235647  0.047678  ]]\n",
      "\n",
      " 0.4378584080342877\n"
     ]
    }
   ],
   "source": [
    "rand30 = np.random.random((1,30))\n",
    "print(rand30)\n",
    "\n",
    "print('\\n',rand30.mean())"
   ]
  },
  {
   "cell_type": "code",
   "execution_count": 85,
   "metadata": {},
   "outputs": [
    {
     "name": "stdout",
     "output_type": "stream",
     "text": [
      "[[1. 1. 1. 1. 1. 1. 1.]\n",
      " [1. 0. 0. 0. 0. 0. 1.]\n",
      " [1. 0. 0. 0. 0. 0. 1.]\n",
      " [1. 0. 0. 0. 0. 0. 1.]\n",
      " [1. 0. 0. 0. 0. 0. 1.]\n",
      " [1. 0. 0. 0. 0. 0. 1.]\n",
      " [1. 1. 1. 1. 1. 1. 1.]]\n"
     ]
    }
   ],
   "source": [
    "n = 7\n",
    "matrix = np.zeros((n,n))\n",
    "\n",
    "matrix[0]=1\n",
    "matrix[:,0]=1\n",
    "matrix[n-1]=1\n",
    "matrix[:,n-1]=1\n",
    "\n",
    "\n",
    "print(matrix)\n"
   ]
  },
  {
   "cell_type": "code",
   "execution_count": 97,
   "metadata": {},
   "outputs": [
    {
     "name": "stdout",
     "output_type": "stream",
     "text": [
      "[[0. 0. 0. 0. 0.]\n",
      " [1. 0. 0. 0. 0.]\n",
      " [0. 2. 0. 0. 0.]\n",
      " [0. 0. 3. 0. 0.]\n",
      " [0. 0. 0. 4. 0.]]\n"
     ]
    }
   ],
   "source": [
    "m1234 = np.zeros((5,5))\n",
    "k=1\n",
    "for i in range(-1, m1234.shape[1]-1):\n",
    "    for j in range(m1234.shape[0]):\n",
    "        if i==j:\n",
    "            m1234[k,j]=k\n",
    "            k=k+1\n",
    "\n",
    "print(m1234)\n",
    "\n",
    "#Funciona p qqr valor, matrix 7x7 por exemplo imprime 1-6"
   ]
  },
  {
   "cell_type": "code",
   "execution_count": 106,
   "metadata": {},
   "outputs": [
    {
     "name": "stdout",
     "output_type": "stream",
     "text": [
      "[[0.93385493 0.03266881 0.27713018 0.71219329 0.6766357 ]\n",
      " [0.30416548 0.87417793 0.83202973 0.53052753 0.6617861 ]\n",
      " [0.40272614 0.09218459 0.38273325 0.67915816 0.78936569]\n",
      " [0.50301401 0.24196029 0.29599834 0.01232425 0.49698064]\n",
      " [0.288883   0.73697637 0.0166349  0.2853888  0.27049552]] \n",
      "\n",
      "0.5264965826593963 \n",
      "\n",
      "0.640537353401413 \n",
      "\n",
      "0.46923356666410115 \n",
      "\n",
      "0.3100555053081654 \n",
      "\n",
      "0.3196757200829223 \n",
      "\n",
      "[[ 0.40735835 -0.49382777 -0.2493664   0.18569671  0.15013911]\n",
      " [-0.33637187  0.23364058  0.19149238 -0.11000983  0.02124874]\n",
      " [-0.06650742 -0.37704898 -0.08650032  0.2099246   0.32013212]\n",
      " [ 0.1929585  -0.06809522 -0.01405716 -0.29773126  0.18692514]\n",
      " [-0.03079272  0.41730065 -0.30304082 -0.03428692 -0.0491802 ]]\n"
     ]
    }
   ],
   "source": [
    "mtz = np.random.random((5,5))\n",
    "print(mtz, '\\n')\n",
    "\n",
    "for i in range(mtz.shape[1]):\n",
    "    media=mtz[i,:].mean()\n",
    "    print(media, '\\n')\n",
    "    for j in range(mtz.shape[0]):\n",
    "        mtz[i][j] = mtz[i][j] - media\n",
    "        \n",
    "print(mtz)"
   ]
  },
  {
   "cell_type": "code",
   "execution_count": 131,
   "metadata": {},
   "outputs": [],
   "source": [
    "import numpy as np\n",
    "from PIL import Image\n",
    "\n",
    "array = np.zeros([100, 200, 4], dtype=np.uint8)\n",
    "array[:,:100] = [255, 120, 0, 0] #Orange left side\n",
    "array[:,100:] = [0, 0, 255, 0]   #Blue right side\n",
    "\n",
    "# Set transparency depending on x position\n",
    "for x in range(200):\n",
    "    for y in range(100):\n",
    "        array[y, x, 3] = x\n",
    "\n",
    "\n",
    "img = Image.fromarray(array)\n",
    "#img.show()"
   ]
  },
  {
   "cell_type": "code",
   "execution_count": 142,
   "metadata": {},
   "outputs": [
    {
     "name": "stdout",
     "output_type": "stream",
     "text": [
      "[[[ 67 107 168]\n",
      "  [ 59 209 226]\n",
      "  [198 121 225]\n",
      "  ...\n",
      "  [141  97 183]\n",
      "  [  7   1  38]\n",
      "  [131 251 108]]\n",
      "\n",
      " [[168  97  26]\n",
      "  [105 109 244]\n",
      "  [ 30 233 162]\n",
      "  ...\n",
      "  [ 98 251   8]\n",
      "  [100  85 151]\n",
      "  [149 197 223]]\n",
      "\n",
      " [[ 97 236 215]\n",
      "  [140  69 144]\n",
      "  [249 163 252]\n",
      "  ...\n",
      "  [ 16 180 250]\n",
      "  [113  13 131]\n",
      "  [182 244 178]]\n",
      "\n",
      " ...\n",
      "\n",
      " [[ 76 111  47]\n",
      "  [179  96 177]\n",
      "  [ 48 199  83]\n",
      "  ...\n",
      "  [ 34   6  12]\n",
      "  [184 140  13]\n",
      "  [204 123  33]]\n",
      "\n",
      " [[243 140 152]\n",
      "  [ 84  52 249]\n",
      "  [152 247 207]\n",
      "  ...\n",
      "  [240 106  32]\n",
      "  [ 64  75   7]\n",
      "  [101  60 243]]\n",
      "\n",
      " [[239  61 227]\n",
      "  [131 231 243]\n",
      "  [253 250 157]\n",
      "  ...\n",
      "  [ 90 177 235]\n",
      "  [  5  13 238]\n",
      "  [  5 223  14]]]\n"
     ]
    }
   ],
   "source": [
    "matriz = np.random.randint(0,255,(1000,1000,3)) #dimensoes da imagem e canais\n",
    "\n",
    "img = Image.fromarray(matriz.astype('uint8'))\n",
    "img.show()\n",
    "\n",
    "print(matriz)"
   ]
  },
  {
   "cell_type": "markdown",
   "metadata": {},
   "source": [
    "## EXERCICIO PANDAS CHAT"
   ]
  },
  {
   "cell_type": "code",
   "execution_count": 1,
   "metadata": {},
   "outputs": [
    {
     "data": {
      "text/plain": [
       "'/home/leticia'"
      ]
     },
     "execution_count": 1,
     "metadata": {},
     "output_type": "execute_result"
    }
   ],
   "source": [
    "pwd"
   ]
  },
  {
   "cell_type": "code",
   "execution_count": 34,
   "metadata": {},
   "outputs": [
    {
     "name": "stdout",
     "output_type": "stream",
     "text": [
      "mpg                     25\n",
      "cylinders                4\n",
      "displacement            98\n",
      "horsepower             NaN\n",
      "weight                2046\n",
      "acceleration            19\n",
      "year                    71\n",
      "origin                   1\n",
      "name            ford pinto\n",
      "Name: 32, dtype: object\n"
     ]
    }
   ],
   "source": [
    "import pandas as pd\n",
    "import numpy as np\n",
    "file = pd.read_csv('Documentos/AULAS/Auto.csv', sep=',', na_values='?')\n",
    "print(file.loc[32])"
   ]
  },
  {
   "cell_type": "code",
   "execution_count": 44,
   "metadata": {},
   "outputs": [
    {
     "name": "stdout",
     "output_type": "stream",
     "text": [
      "      mpg  cylinders  displacement  horsepower  weight  acceleration  year  \\\n",
      "32   25.0          4          98.0         NaN    2046          19.0    71   \n",
      "126  21.0          6         200.0         NaN    2875          17.0    74   \n",
      "330  40.9          4          85.0         NaN    1835          17.3    80   \n",
      "336  23.6          4         140.0         NaN    2905          14.3    80   \n",
      "354  34.5          4         100.0         NaN    2320          15.8    81   \n",
      "\n",
      "     origin                  name  \n",
      "32        1            ford pinto  \n",
      "126       1         ford maverick  \n",
      "330       2  renault lecar deluxe  \n",
      "336       1    ford mustang cobra  \n",
      "354       2           renault 18i  \n",
      "\n",
      " mpg                        25\n",
      "cylinders                   4\n",
      "displacement              113\n",
      "horsepower                 95\n",
      "weight                   2228\n",
      "acceleration               14\n",
      "year                       71\n",
      "origin                      3\n",
      "name            toyota corona\n",
      "Name: 31, dtype: object\n",
      "\n",
      " mpg                     25\n",
      "cylinders                4\n",
      "displacement            98\n",
      "horsepower               0\n",
      "weight                2046\n",
      "acceleration            19\n",
      "year                    71\n",
      "origin                   1\n",
      "name            ford pinto\n",
      "Name: 32, dtype: object\n"
     ]
    }
   ],
   "source": [
    "dfexcl=file[file['horsepower'].isnull()]\n",
    "print(dfexcl)\n",
    "\n",
    "\n",
    "new_df = file.dropna()\n",
    "print('\\n',new_df.loc[31]) #AQUI ELE DELETOU O INDICE 32, NAO CONSEGUI IMPRIMIR\n",
    "\n",
    "newdf = file.fillna(0)\n",
    "print('\\n',newdf.loc[32]) #AQUI ELE SUBSTITUIU POR ZERO\n",
    "# print(file[file['mpg'] == '?'])\n",
    "\n",
    "# print(file[file['cylinders'] == '?'])\n",
    "\n",
    "#print(file[file['displacement'] == '?'])\n",
    "\n",
    "# print(file[file['weight'] == '?'])\n",
    "\n",
    "# print(file[file['acceleration'] == '?'])\n",
    "\n",
    "# print(file[file['year'] == '?'])\n",
    "\n",
    "# print(file[file['origin'] == '?'])\n",
    "\n",
    "# print(file[file['name'] == '?'])"
   ]
  },
  {
   "cell_type": "code",
   "execution_count": 46,
   "metadata": {},
   "outputs": [
    {
     "name": "stdout",
     "output_type": "stream",
     "text": [
      "mpg                     25\n",
      "cylinders                4\n",
      "displacement            98\n",
      "horsepower         104.469\n",
      "weight                2046\n",
      "acceleration            19\n",
      "year                    71\n",
      "origin                   1\n",
      "name            ford pinto\n",
      "Name: 32, dtype: object\n"
     ]
    }
   ],
   "source": [
    "dfmedio = file.fillna(file['horsepower'].mean())\n",
    "print(dfmedio.loc[32])"
   ]
  },
  {
   "cell_type": "markdown",
   "metadata": {},
   "source": [
    "## PANDAS LISTA GIT"
   ]
  },
  {
   "cell_type": "code",
   "execution_count": 49,
   "metadata": {},
   "outputs": [
    {
     "data": {
      "text/html": [
       "<div>\n",
       "<style scoped>\n",
       "    .dataframe tbody tr th:only-of-type {\n",
       "        vertical-align: middle;\n",
       "    }\n",
       "\n",
       "    .dataframe tbody tr th {\n",
       "        vertical-align: top;\n",
       "    }\n",
       "\n",
       "    .dataframe thead th {\n",
       "        text-align: right;\n",
       "    }\n",
       "</style>\n",
       "<table border=\"1\" class=\"dataframe\">\n",
       "  <thead>\n",
       "    <tr style=\"text-align: right;\">\n",
       "      <th></th>\n",
       "      <th>mpg</th>\n",
       "      <th>cylinders</th>\n",
       "      <th>displacement</th>\n",
       "      <th>horsepower</th>\n",
       "      <th>weight</th>\n",
       "      <th>acceleration</th>\n",
       "      <th>year</th>\n",
       "      <th>origin</th>\n",
       "      <th>name</th>\n",
       "    </tr>\n",
       "  </thead>\n",
       "  <tbody>\n",
       "    <tr>\n",
       "      <td>0</td>\n",
       "      <td>18.0</td>\n",
       "      <td>8</td>\n",
       "      <td>307.0</td>\n",
       "      <td>130.0</td>\n",
       "      <td>3504</td>\n",
       "      <td>12.0</td>\n",
       "      <td>70</td>\n",
       "      <td>1</td>\n",
       "      <td>chevrolet chevelle malibu</td>\n",
       "    </tr>\n",
       "    <tr>\n",
       "      <td>1</td>\n",
       "      <td>15.0</td>\n",
       "      <td>8</td>\n",
       "      <td>350.0</td>\n",
       "      <td>165.0</td>\n",
       "      <td>3693</td>\n",
       "      <td>11.5</td>\n",
       "      <td>70</td>\n",
       "      <td>1</td>\n",
       "      <td>buick skylark 320</td>\n",
       "    </tr>\n",
       "    <tr>\n",
       "      <td>2</td>\n",
       "      <td>18.0</td>\n",
       "      <td>8</td>\n",
       "      <td>318.0</td>\n",
       "      <td>150.0</td>\n",
       "      <td>3436</td>\n",
       "      <td>11.0</td>\n",
       "      <td>70</td>\n",
       "      <td>1</td>\n",
       "      <td>plymouth satellite</td>\n",
       "    </tr>\n",
       "    <tr>\n",
       "      <td>3</td>\n",
       "      <td>16.0</td>\n",
       "      <td>8</td>\n",
       "      <td>304.0</td>\n",
       "      <td>150.0</td>\n",
       "      <td>3433</td>\n",
       "      <td>12.0</td>\n",
       "      <td>70</td>\n",
       "      <td>1</td>\n",
       "      <td>amc rebel sst</td>\n",
       "    </tr>\n",
       "    <tr>\n",
       "      <td>4</td>\n",
       "      <td>17.0</td>\n",
       "      <td>8</td>\n",
       "      <td>302.0</td>\n",
       "      <td>140.0</td>\n",
       "      <td>3449</td>\n",
       "      <td>10.5</td>\n",
       "      <td>70</td>\n",
       "      <td>1</td>\n",
       "      <td>ford torino</td>\n",
       "    </tr>\n",
       "  </tbody>\n",
       "</table>\n",
       "</div>"
      ],
      "text/plain": [
       "    mpg  cylinders  displacement  horsepower  weight  acceleration  year  \\\n",
       "0  18.0          8         307.0       130.0    3504          12.0    70   \n",
       "1  15.0          8         350.0       165.0    3693          11.5    70   \n",
       "2  18.0          8         318.0       150.0    3436          11.0    70   \n",
       "3  16.0          8         304.0       150.0    3433          12.0    70   \n",
       "4  17.0          8         302.0       140.0    3449          10.5    70   \n",
       "\n",
       "   origin                       name  \n",
       "0       1  chevrolet chevelle malibu  \n",
       "1       1          buick skylark 320  \n",
       "2       1         plymouth satellite  \n",
       "3       1              amc rebel sst  \n",
       "4       1                ford torino  "
      ]
     },
     "execution_count": 49,
     "metadata": {},
     "output_type": "execute_result"
    }
   ],
   "source": [
    "file.head()\n"
   ]
  },
  {
   "cell_type": "code",
   "execution_count": 48,
   "metadata": {},
   "outputs": [
    {
     "data": {
      "text/html": [
       "<div>\n",
       "<style scoped>\n",
       "    .dataframe tbody tr th:only-of-type {\n",
       "        vertical-align: middle;\n",
       "    }\n",
       "\n",
       "    .dataframe tbody tr th {\n",
       "        vertical-align: top;\n",
       "    }\n",
       "\n",
       "    .dataframe thead th {\n",
       "        text-align: right;\n",
       "    }\n",
       "</style>\n",
       "<table border=\"1\" class=\"dataframe\">\n",
       "  <thead>\n",
       "    <tr style=\"text-align: right;\">\n",
       "      <th></th>\n",
       "      <th>mpg</th>\n",
       "      <th>cylinders</th>\n",
       "      <th>displacement</th>\n",
       "      <th>horsepower</th>\n",
       "      <th>weight</th>\n",
       "      <th>acceleration</th>\n",
       "      <th>year</th>\n",
       "      <th>origin</th>\n",
       "      <th>name</th>\n",
       "    </tr>\n",
       "  </thead>\n",
       "  <tbody>\n",
       "    <tr>\n",
       "      <td>392</td>\n",
       "      <td>27.0</td>\n",
       "      <td>4</td>\n",
       "      <td>140.0</td>\n",
       "      <td>86.0</td>\n",
       "      <td>2790</td>\n",
       "      <td>15.6</td>\n",
       "      <td>82</td>\n",
       "      <td>1</td>\n",
       "      <td>ford mustang gl</td>\n",
       "    </tr>\n",
       "    <tr>\n",
       "      <td>393</td>\n",
       "      <td>44.0</td>\n",
       "      <td>4</td>\n",
       "      <td>97.0</td>\n",
       "      <td>52.0</td>\n",
       "      <td>2130</td>\n",
       "      <td>24.6</td>\n",
       "      <td>82</td>\n",
       "      <td>2</td>\n",
       "      <td>vw pickup</td>\n",
       "    </tr>\n",
       "    <tr>\n",
       "      <td>394</td>\n",
       "      <td>32.0</td>\n",
       "      <td>4</td>\n",
       "      <td>135.0</td>\n",
       "      <td>84.0</td>\n",
       "      <td>2295</td>\n",
       "      <td>11.6</td>\n",
       "      <td>82</td>\n",
       "      <td>1</td>\n",
       "      <td>dodge rampage</td>\n",
       "    </tr>\n",
       "    <tr>\n",
       "      <td>395</td>\n",
       "      <td>28.0</td>\n",
       "      <td>4</td>\n",
       "      <td>120.0</td>\n",
       "      <td>79.0</td>\n",
       "      <td>2625</td>\n",
       "      <td>18.6</td>\n",
       "      <td>82</td>\n",
       "      <td>1</td>\n",
       "      <td>ford ranger</td>\n",
       "    </tr>\n",
       "    <tr>\n",
       "      <td>396</td>\n",
       "      <td>31.0</td>\n",
       "      <td>4</td>\n",
       "      <td>119.0</td>\n",
       "      <td>82.0</td>\n",
       "      <td>2720</td>\n",
       "      <td>19.4</td>\n",
       "      <td>82</td>\n",
       "      <td>1</td>\n",
       "      <td>chevy s-10</td>\n",
       "    </tr>\n",
       "  </tbody>\n",
       "</table>\n",
       "</div>"
      ],
      "text/plain": [
       "      mpg  cylinders  displacement  horsepower  weight  acceleration  year  \\\n",
       "392  27.0          4         140.0        86.0    2790          15.6    82   \n",
       "393  44.0          4          97.0        52.0    2130          24.6    82   \n",
       "394  32.0          4         135.0        84.0    2295          11.6    82   \n",
       "395  28.0          4         120.0        79.0    2625          18.6    82   \n",
       "396  31.0          4         119.0        82.0    2720          19.4    82   \n",
       "\n",
       "     origin             name  \n",
       "392       1  ford mustang gl  \n",
       "393       2        vw pickup  \n",
       "394       1    dodge rampage  \n",
       "395       1      ford ranger  \n",
       "396       1       chevy s-10  "
      ]
     },
     "execution_count": 48,
     "metadata": {},
     "output_type": "execute_result"
    }
   ],
   "source": [
    "file.tail()"
   ]
  },
  {
   "cell_type": "code",
   "execution_count": 138,
   "metadata": {},
   "outputs": [
    {
     "name": "stdout",
     "output_type": "stream",
     "text": [
      "           price\n",
      "company         \n",
      "porsche  35528.0\n",
      "O preco medio mais caro eh  35528.0 da empresa porsche\n"
     ]
    }
   ],
   "source": [
    "carros = pd.read_csv('Documentos/AULAS/exercicios/carros.csv', sep=',')\n",
    "#print(carros)\n",
    "preco_medio = carros[['company','price']].groupby('company').mean().sort_values(by='price',ascending=False).head(1)\n",
    "#preco_max = preco_medio.iloc[0]\n",
    "print(preco_medio)\n",
    "#print(preco_max.index)\n",
    "print('O preco medio mais caro eh ', preco_medio['price'].values[0], 'da empresa', preco_medio.index.values[0])"
   ]
  },
  {
   "cell_type": "code",
   "execution_count": 139,
   "metadata": {},
   "outputs": [
    {
     "name": "stdout",
     "output_type": "stream",
     "text": [
      "15387.0\n"
     ]
    }
   ],
   "source": [
    "preco_medio_total=carros['price'].mean()\n",
    "print(preco_medio_total)"
   ]
  },
  {
   "cell_type": "code",
   "execution_count": 140,
   "metadata": {},
   "outputs": [
    {
     "name": "stdout",
     "output_type": "stream",
     "text": [
      "48 288\n"
     ]
    }
   ],
   "source": [
    "max_hp=carros['horsepower'].max()\n",
    "min_hp=carros['horsepower'].min()\n",
    "\n",
    "print(min_hp, max_hp)"
   ]
  },
  {
   "cell_type": "code",
   "execution_count": 137,
   "metadata": {},
   "outputs": [
    {
     "name": "stdout",
     "output_type": "stream",
     "text": [
      "    index company body-style  wheel-base  length engine-type num-of-cylinders  \\\n",
      "48     66  toyota  hatchback        95.7   158.7         ohc             four   \n",
      "49     67  toyota  hatchback        95.7   158.7         ohc             four   \n",
      "50     68  toyota  hatchback        95.7   158.7         ohc             four   \n",
      "51     69  toyota      wagon        95.7   169.7         ohc             four   \n",
      "52     70  toyota      wagon        95.7   169.7         ohc             four   \n",
      "53     71  toyota      wagon        95.7   169.7         ohc             four   \n",
      "54     79  toyota      wagon       104.5   187.8        dohc              six   \n",
      "\n",
      "    horsepower  average-mileage    price  \n",
      "48          62               35   5348.0  \n",
      "49          62               31   6338.0  \n",
      "50          62               31   6488.0  \n",
      "51          62               31   6918.0  \n",
      "52          62               27   7898.0  \n",
      "53          62               27   8778.0  \n",
      "54         156               19  15750.0  \n"
     ]
    }
   ],
   "source": [
    "info_toyota = carros.loc[carros['company']=='toyota']\n",
    "print(info_toyota)"
   ]
  },
  {
   "cell_type": "code",
   "execution_count": 141,
   "metadata": {},
   "outputs": [
    {
     "name": "stdout",
     "output_type": "stream",
     "text": [
      "<pandas.core.groupby.generic.DataFrameGroupBy object at 0x7fb86399c390>\n"
     ]
    }
   ],
   "source": [
    "#filtra por cilindro e salva em csv  (num-of-cylinders)\n",
    "\n",
    "carros_agrupados = carros.groupby('num-of-cylinders')\n",
    "print(carros_agrupados)\n",
    "\n"
   ]
  },
  {
   "cell_type": "code",
   "execution_count": null,
   "metadata": {},
   "outputs": [],
   "source": []
  }
 ],
 "metadata": {
  "kernelspec": {
   "display_name": "Python [conda env:ambi] *",
   "language": "python",
   "name": "conda-env-ambi-py"
  },
  "language_info": {
   "codemirror_mode": {
    "name": "ipython",
    "version": 3
   },
   "file_extension": ".py",
   "mimetype": "text/x-python",
   "name": "python",
   "nbconvert_exporter": "python",
   "pygments_lexer": "ipython3",
   "version": "3.7.4"
  }
 },
 "nbformat": 4,
 "nbformat_minor": 2
}
